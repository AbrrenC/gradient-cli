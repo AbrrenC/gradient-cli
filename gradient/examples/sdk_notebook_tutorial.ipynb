{
 "cells": [
  {
   "cell_type": "markdown",
   "metadata": {},
   "source": [
    "# **Gradient SDK Tutorial**"
   ]
  },
  {
   "cell_type": "code",
   "execution_count": null,
   "metadata": {},
   "outputs": [],
   "source": [
    "!pip install --pre -U gradient"
   ]
  },
  {
   "cell_type": "code",
   "execution_count": null,
   "metadata": {},
   "outputs": [],
   "source": [
    "!pip install jupyter-tensorboard\n",
    "!pip install -q tf-nightly-2.0-preview\n",
    "!pip install -U setuptools"
   ]
  },
  {
   "cell_type": "code",
   "execution_count": null,
   "metadata": {},
   "outputs": [],
   "source": [
    "#Import the SdkClient from the gradient package\n",
    "from gradient import sdk_client, ProjectsClient"
   ]
  },
  {
   "cell_type": "code",
   "execution_count": null,
   "metadata": {},
   "outputs": [],
   "source": [
    "#create a API Key\n",
    "api_key = \"api_key_here\""
   ]
  },
  {
   "cell_type": "code",
   "execution_count": null,
   "metadata": {},
   "outputs": [],
   "source": [
    "deployment_client = sdk_client.DeploymentsClient(api_key)\n",
    "models_client = sdk_client.ModelsClient(api_key)\n",
    "jobs_client = sdk_client.JobsClient(api_key)\n",
    "projects_client = ProjectsClient(api_key)\n",
    "experiment_client = sdk_client.ExperimentsClient(api_key)\n",
    "\n",
    "#or access them all from a single client\n",
    "#client = sdk_client.SdkClient(api_key)"
   ]
  },
  {
   "cell_type": "code",
   "execution_count": null,
   "metadata": {},
   "outputs": [],
   "source": [
    "#Reuse existing example, or create new project\n",
    "existing_team = False\n",
    "projects_list = projects_client.list()\n",
    "\n",
    "#print out all projects in the team\n",
    "for project in projects_list:\n",
    "    if project.name == \"SDK Example\":\n",
    "        print(project)\n",
    "        existing_team = True\n",
    "        break\n",
    "    elif not existing_team:\n",
    "        print(project)\n",
    "\n",
    "\n",
    "help(projects_client.list)"
   ]
  },
  {
   "cell_type": "code",
   "execution_count": null,
   "metadata": {},
   "outputs": [],
   "source": [
    "#get id of existing project or create a new one\n",
    "proj_id = project.id if existing_team else projects_client.create(\"SDK Example\")\n",
    "print(proj_id)\n",
    "\n",
    "help(projects_client.create)"
   ]
  },
  {
   "cell_type": "code",
   "execution_count": null,
   "metadata": {},
   "outputs": [],
   "source": [
    "#create experiment client\n",
    "experiment_client = sdk_client.ExperimentsClient(api_key)\n",
    "\n",
    "#list experiments in the project\n",
    "print(experiment_client.list(project_id = proj_id))\n",
    "help(experiment_client.list)"
   ]
  },
  {
   "cell_type": "code",
   "execution_count": null,
   "metadata": {},
   "outputs": [],
   "source": [
    "single_node_path = \"/storage/models/sdk_test\"\n",
    "\n",
    "env_variable = {\n",
    "    \"EPOCHS_EVAL\":2,\n",
    "    \"TRAIN_EPOCHS\":3,\n",
    "    \"MAX_STEPS\":100,\n",
    "    \"EVAL_SECS\":10\n",
    "}\n",
    "\n",
    "single_node_parameters = {\n",
    "    \"name\" : \"single_node_experiment-sdk\",\n",
    "    \"project_id\" : proj_id,\n",
    "    \"command\" : \"python mnist.py\",\n",
    "    \"machine_type\" : \"K80\",\n",
    "    \"experiment_env\": env_variable,\n",
    "    \"container\": \"tensorflow/tensorflow:1.13.1-gpu-py3\",\n",
    "    \"workspace_url\": \"https://github.com/Paperspace/mnist-sample.git\",\n",
    "    \"model_type\": \"Tensorflow\",\n",
    "    \"model_path\": single_node_path\n",
    "}"
   ]
  },
  {
   "cell_type": "code",
   "execution_count": null,
   "metadata": {},
   "outputs": [],
   "source": [
    "#create single node experiment\n",
    "exp_id = experiment_client.create_single_node(**single_node_parameters)\n",
    "print(exp_id)\n",
    "\n",
    "#get single node experiment object\n",
    "from gradient import constants\n",
    "#experiment state, created but not started\n",
    "state = experiment_client.get(exp_id).state\n",
    "print(\"state: \"+constants.ExperimentState.get_state_str(state))\n",
    "\n",
    "print()\n",
    "print()\n",
    "\n",
    "help(experiment_client.create_single_node)"
   ]
  },
  {
   "cell_type": "code",
   "execution_count": null,
   "metadata": {},
   "outputs": [],
   "source": [
    "#get experiment object\n",
    "print(experiment_client.get(exp_id))"
   ]
  },
  {
   "cell_type": "code",
   "execution_count": null,
   "metadata": {},
   "outputs": [],
   "source": [
    "#start experiment\n",
    "resp = experiment_client.start(exp_id)\n",
    "print(resp)"
   ]
  },
  {
   "cell_type": "code",
   "execution_count": null,
   "metadata": {},
   "outputs": [],
   "source": [
    "#create a log stream & print all logs for the duration of experiment\n",
    "print(\"Watching state of experiment\")\n",
    "state = \"created\"\n",
    "while state != \"running\" or state != \"stopped\":\n",
    "    new_state = constants.ExperimentState.get_state_str(experiment_client.get(exp_id).state)\n",
    "    if new_state != state:\n",
    "        print(\"state: \"+state + \"  new state: \"+new_state)\n",
    "        state = new_state\n",
    "    if state == \"running\": break\n",
    "\n",
    "log_stream = experiment_client.yield_logs(exp_id)\n",
    "print(\"Streaming logs of experiment\")\n",
    "try:\n",
    "    while True:\n",
    "        print(log_stream.send(None))\n",
    "except:\n",
    "    print(\"done streaming logs\")"
   ]
  },
  {
   "cell_type": "code",
   "execution_count": null,
   "metadata": {},
   "outputs": [],
   "source": [
    "models_client = sdk_client.ModelsClient(api_key)"
   ]
  },
  {
   "cell_type": "code",
   "execution_count": null,
   "metadata": {},
   "outputs": [],
   "source": [
    "#get model we just trained\n",
    "model_sn = models_client.list(experiment_id = exp_id)[0]\n",
    "\n",
    "#print model summary\n",
    "print(model_sn.summary)"
   ]
  },
  {
   "cell_type": "code",
   "execution_count": null,
   "metadata": {},
   "outputs": [],
   "source": [
    "#view experiment in tensorboard\n",
    "%load_ext tensorboard\n",
    "%tensorboard --logdir single_node_path"
   ]
  },
  {
   "cell_type": "code",
   "execution_count": null,
   "metadata": {},
   "outputs": [],
   "source": [
    "##Create a dictionary of parameters for running a distributed/multinode experiment\n",
    "env = {\n",
    "    \"EPOCHS_EVAL\":5,\n",
    "    \"TRAIN_EPOCHS\":10,\n",
    "    \"MAX_STEPS\":1000,\n",
    "    \"EVAL_SECS\":10\n",
    "}\n",
    "\n",
    "multi_node_parameters = { \n",
    "    \"name\": \"multiEx\",\n",
    "    \"project_id\": proj_id,\n",
    "    \"experiment_type_id\": 2,\n",
    "    \"worker_container\": \"tensorflow/tensorflow:1.13.1-gpu-py3\",\n",
    "    \"worker_machine_type\": \"K80\",\n",
    "    \"worker_command\": \"pip install -r requirements.txt && python mnist.py\",\n",
    "    \"experiment_env\": env,\n",
    "    \"worker_count\": 2,\n",
    "    \"parameter_server_container\": \"tensorflow/tensorflow:1.13.1-gpu-py3\",\n",
    "    \"parameter_server_machine_type\": \"K80\",\n",
    "    \"parameter_server_command\": \"pip install -r requirements.txt && python mnist.py\",\n",
    "    \"parameter_server_count\": 1,\n",
    "    \"workspace_url\": \"https://github.com/Paperspace/mnist-sample.git\",\n",
    "    \"model_type\": \"Tensorflow\"\n",
    "}"
   ]
  },
  {
   "cell_type": "code",
   "execution_count": null,
   "metadata": {},
   "outputs": [],
   "source": [
    "mn_exp_id = experiment_client.create_multi_node(**multi_node_parameters)"
   ]
  },
  {
   "cell_type": "code",
   "execution_count": null,
   "metadata": {},
   "outputs": [],
   "source": [
    "experiment_client.start(mn_exp_id)"
   ]
  },
  {
   "cell_type": "code",
   "execution_count": null,
   "metadata": {},
   "outputs": [],
   "source": [
    "from gradient import constants\n",
    "#create a log stream & print all logs for the duration of experiment\n",
    "print(\"Watching state of experiment\")\n",
    "state = \"created\"\n",
    "while state != \"running\" or state != \"stopped\":\n",
    "    new_state = constants.ExperimentState.get_state_str(experiment_client.get(mn_exp_id).state)\n",
    "    if new_state != state:\n",
    "        print(\"state: \"+state)\n",
    "        state = new_state\n",
    "    if state == \"running\": break\n",
    "\n",
    "log_stream = experiment_client.yield_logs(mn_exp_id)\n",
    "print(\"Streaming logs of experiment\")\n",
    "try:\n",
    "    while True:\n",
    "        print(log_stream.send(None))\n",
    "except:\n",
    "    print(\"done streaming logs\")"
   ]
  },
  {
   "cell_type": "markdown",
   "metadata": {},
   "source": [
    "# Run a tensorboard"
   ]
  },
  {
   "cell_type": "code",
   "execution_count": null,
   "metadata": {},
   "outputs": [],
   "source": [
    "#view experiment in tensorboard\n",
    "%load_ext tensorboard\n",
    "%tensorboard --logdir \"/storage/models/\"+mn_exp_id"
   ]
  },
  {
   "cell_type": "code",
   "execution_count": null,
   "metadata": {},
   "outputs": [],
   "source": [
    "model_mn = models_client.list(experiment_id = mn_exp_id)\n",
    "print(model_mn[0].summary)"
   ]
  },
  {
   "cell_type": "code",
   "execution_count": null,
   "metadata": {},
   "outputs": [],
   "source": [
    "model_to_deploy = None\n",
    "model_to_deploy = mn_exp_id if model_mn[0]['accuracy']['result']['max'] > model_sn['accuracy']['result']['max'] else sn_exp_id"
   ]
  },
  {
   "cell_type": "code",
   "execution_count": null,
   "metadata": {},
   "outputs": [],
   "source": [
    "model_deploy_id = models_client.list(experiment_id = model_to_deploy)[0].model_id\n",
    "\n",
    "deploy_param = {\n",
    "    \"deployment_type\" : \"Tensorflow Serving on K8s\",\n",
    "    \"image_url\": \"tensorflow/serving:latest-gpu\",\n",
    "    \"name\": \"sdk_tutorial\",\n",
    "    \"machine_type\": \"K80\",\n",
    "    \"instance_count\": 2,\n",
    "    \"model_id\" : model_deploy_id\n",
    "}"
   ]
  },
  {
   "cell_type": "code",
   "execution_count": null,
   "metadata": {},
   "outputs": [],
   "source": [
    "resp = deployment_client.create(**deploy_param)\n",
    "\n",
    "help(deployment_client.create)"
   ]
  },
  {
   "cell_type": "code",
   "execution_count": null,
   "metadata": {},
   "outputs": [],
   "source": []
  }
 ],
 "metadata": {
  "kernelspec": {
   "display_name": "Python 3",
   "language": "python",
   "name": "python3"
  },
  "language_info": {
   "codemirror_mode": {
    "name": "ipython",
    "version": 3
   },
   "file_extension": ".py",
   "mimetype": "text/x-python",
   "name": "python",
   "nbconvert_exporter": "python",
   "pygments_lexer": "ipython3",
   "version": "3.5.2"
  }
 },
 "nbformat": 4,
 "nbformat_minor": 2
}
